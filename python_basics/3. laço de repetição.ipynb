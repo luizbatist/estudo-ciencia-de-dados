{
 "cells": [
  {
   "cell_type": "markdown",
   "id": "254f7061-fbf7-43fe-8bcc-0432023e5b7e",
   "metadata": {},
   "source": [
    "### Entendendo o Laço for (\"for = para em pt/br\")\n",
    "\n",
    "*O for é a primeira estrutura de repetição que vamos explorar. Ele é utilizado para iterar sobre elementos de uma sequência, como listas, tuplas ou strings. A sintaxe básica é:\n",
    "for elemento in sequência: # bloco de código\n",
    "Aqui, elemento é uma variável que assume o valor de cada item da sequência durante cada iteração. O bloco de código indentado é executado para cada item*"
   ]
  },
  {
   "cell_type": "code",
   "execution_count": 5,
   "id": "8114e926-3c97-4b67-8630-c319b0b46f86",
   "metadata": {},
   "outputs": [
    {
     "name": "stdout",
     "output_type": "stream",
     "text": [
      "0\n",
      "2\n",
      "4\n",
      "6\n",
      "8\n",
      "10\n"
     ]
    }
   ],
   "source": [
    "#Neste exemplo o for é uma estrutura de repetição, o numero está recebendo um valor que está indo até uma range um alcance de começando do 0 e\n",
    "#indo até o 10 pulando em 2 casas\n",
    "for numero in range(0, 11, 2):\n",
    "    print(numero)"
   ]
  },
  {
   "cell_type": "code",
   "execution_count": 16,
   "id": "259b8394-861a-4e28-a3c6-5cbd59b10c73",
   "metadata": {},
   "outputs": [
    {
     "name": "stdout",
     "output_type": "stream",
     "text": [
      "O fatorial de 5 é de 120!\n"
     ]
    }
   ],
   "source": [
    "#fatorial\n",
    "n = 5\n",
    "\n",
    "fatorial = 1\n",
    "\n",
    "for i in range(1, n+1):\n",
    "    fatorial = fatorial * i\n",
    "print(f\"O fatorial de {n} é de {fatorial}!\")"
   ]
  },
  {
   "cell_type": "markdown",
   "id": "1c2189ef-5f2c-4920-a43f-6035a200e8e5",
   "metadata": {},
   "source": [
    "### EXERCICIOS\n",
    "* 1. Crie um programa que some os números de 1 a 100.*\n",
    "* 2. Calcule o fatorial de 10.*\n",
    "* 3. Crie um programa que imprima os números de 1 a 50, mas apenas os números pares.*"
   ]
  },
  {
   "cell_type": "code",
   "execution_count": 24,
   "id": "290171f6-c740-42a9-b3c5-931b0b0a490b",
   "metadata": {},
   "outputs": [
    {
     "name": "stdout",
     "output_type": "stream",
     "text": [
      "A soma dos números de 1 até 100 é: 5050\n"
     ]
    }
   ],
   "source": [
    "# Exercício 1\n",
    "n = 100 # até qual número será somado\n",
    "soma = 0  #valor inicial da soma\n",
    "for numero in range(1,n+1): # percorre todos os números de 1 a 100\n",
    "    soma = soma + numero # a cada repetição, o valor atual de numero é adicionado à variável soma\n",
    "print(f\"A soma dos números de 1 até 100 é: {soma}\") # esse linha irá mostrar na tela a soma final dos números de 1 até 100\n"
   ]
  },
  {
   "cell_type": "code",
   "execution_count": 58,
   "id": "8e374db0-b13d-4051-b00e-434bafa195ab",
   "metadata": {},
   "outputs": [
    {
     "name": "stdout",
     "output_type": "stream",
     "text": [
      "O fatorial de 10 é de 3628800\n"
     ]
    }
   ],
   "source": [
    "# Exercício 2\n",
    "n = 10 #até qual número será calculado o fatorial\n",
    "fatorial = 1 #valor inicial do fatorial\n",
    "\n",
    "for i in range (1, n + 1): #percorre multiplicando do 1 até 10\n",
    "    fatorial = fatorial * i #multiplicação de cada numero ao fatorial acumulado\n",
    "print(f\"O fatorial de {n} é de {fatorial:}\")"
   ]
  },
  {
   "cell_type": "code",
   "execution_count": 65,
   "id": "04a3aa1c-c730-4d72-b93d-b9198609b30d",
   "metadata": {},
   "outputs": [
    {
     "name": "stdout",
     "output_type": "stream",
     "text": [
      "2 4 6 8 10 12 14 16 18 20 22 24 26 28 30 32 34 36 38 40 42 44 46 48 50 "
     ]
    }
   ],
   "source": [
    "# Exercício 3\n",
    "n = 50 #até qual número será contado\n",
    "\n",
    "for numero in range (1, n + 1): #percorre do número 1 até 0 50\n",
    "    if numero % 2 == 0: #verifica se o número é par (resto da divisão por 2 é 0)\n",
    "        print(numero, end=\" \") #se for par irá mostrar na tela"
   ]
  },
  {
   "cell_type": "code",
   "execution_count": null,
   "id": "8aa10346-9b22-4b60-a132-7dffa1d45257",
   "metadata": {},
   "outputs": [],
   "source": []
  }
 ],
 "metadata": {
  "kernelspec": {
   "display_name": "Python 3 (ipykernel)",
   "language": "python",
   "name": "python3"
  },
  "language_info": {
   "codemirror_mode": {
    "name": "ipython",
    "version": 3
   },
   "file_extension": ".py",
   "mimetype": "text/x-python",
   "name": "python",
   "nbconvert_exporter": "python",
   "pygments_lexer": "ipython3",
   "version": "3.13.5"
  }
 },
 "nbformat": 4,
 "nbformat_minor": 5
}
