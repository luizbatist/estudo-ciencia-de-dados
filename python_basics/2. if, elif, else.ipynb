{
 "cells": [
  {
   "cell_type": "markdown",
   "id": "7c830bde-378c-48e3-9644-668cdcbcbfbf",
   "metadata": {},
   "source": [
    "# O que são Estruturas Condicionais?\n",
    "*As estruturas condicionais são construtos da linguagem de programação que permitem que o fluxo de execução do código mude com base em condições específicas. Em outras palavras, elas nos permitem tomar decisões durante a execução do programa. A estrutura mais comum é a if/else, que traduzimos para o português como \"se\" e \"senão\".*"
   ]
  },
  {
   "cell_type": "markdown",
   "id": "7e367c3d-b33a-49e8-b571-db44e2bdb4ef",
   "metadata": {},
   "source": [
    "# A Estrutura if\n",
    "*A palavra-chave if (se, em português) é usada para verificar uma condição. Se a condição for verdadeira, o código dentro do bloco if será executado. Caso contrário, o fluxo de execução continuará após o bloco if.*"
   ]
  },
  {
   "cell_type": "markdown",
   "id": "89394dc0-872a-4dc8-a147-a24206f02a75",
   "metadata": {},
   "source": [
    "# A Estrutura else\n",
    "*A palavra-chave else (senão, em português) é usada em conjunto com o if para especificar um bloco de código que deve ser executado se a condição do if for falsa.*"
   ]
  },
  {
   "cell_type": "markdown",
   "id": "18d8e251-06a6-4795-8991-9d5f8a10da58",
   "metadata": {},
   "source": [
    "# Como Funciona o elif\n",
    "*A estrutura elif é usada após um if para verificar outra condição. Se a condição do if for falsa, a condição do elif será avaliada. Se a condição do elif for verdadeira, o código dentro do bloco elif será executado. Caso contrário, o fluxo de execução continuará após o elif*\n"
   ]
  },
  {
   "cell_type": "code",
   "execution_count": null,
   "id": "56ed10c4-a608-4266-ace9-6b2885a80dbc",
   "metadata": {},
   "outputs": [],
   "source": [
    "# Exemplo Prático:\n",
    "\n",
    "x = 5 if x == 5: print(\"x é igual a 5\")\n",
    "\n",
    "#Neste exemplo, x é igual a 5, então a condição x == 5 é verdadeira, e a mensagem \"x é igual a 5\" será impressa."
   ]
  },
  {
   "cell_type": "code",
   "execution_count": 6,
   "id": "6c2596fa-c191-4e4d-89bd-055f6f787021",
   "metadata": {},
   "outputs": [
    {
     "name": "stdout",
     "output_type": "stream",
     "text": [
      "Este número é ímpar\n"
     ]
    }
   ],
   "source": [
    "# par ou ímpar\n",
    "a = 11\n",
    "resto = a % 2\n",
    "if resto == 0:\n",
    "    print(\"Este número é par\")\n",
    "else:\n",
    "    print(\"Este número é ímpar\")"
   ]
  },
  {
   "cell_type": "code",
   "execution_count": null,
   "id": "370d94ef-e2d8-4ec1-99c7-ab73fba62ea3",
   "metadata": {},
   "outputs": [],
   "source": []
  },
  {
   "cell_type": "code",
   "execution_count": 14,
   "id": "30be130c-f463-4176-a85f-e91a8abe1d58",
   "metadata": {},
   "outputs": [
    {
     "name": "stdout",
     "output_type": "stream",
     "text": [
      "Este número é maior que 10\n"
     ]
    }
   ],
   "source": [
    "b = 10\n",
    "if b >= 10:\n",
    "    print(\"Este número é maior que 10\")\n",
    "elif b > 3:\n",
    "    print(\"Maior que 3\")\n",
    "else:\n",
    "    print(\"Esse número é menor que 3\")\n"
   ]
  },
  {
   "cell_type": "code",
   "execution_count": 19,
   "id": "e4b17f18-abc0-4867-93f8-1076c16b80f2",
   "metadata": {},
   "outputs": [
    {
     "name": "stdin",
     "output_type": "stream",
     "text": [
      "Digite um número 0\n"
     ]
    },
    {
     "name": "stdout",
     "output_type": "stream",
     "text": [
      "O número é zero\n"
     ]
    }
   ],
   "source": [
    "numero = float(input(\"Digite um número\"))\n",
    "if numero > 0:\n",
    "    print(\"Número positivo\")\n",
    "elif numero < 0:\n",
    "    print(\"Número negativo\")\n",
    "else:\n",
    "    print(\"O número é zero\")"
   ]
  },
  {
   "cell_type": "code",
   "execution_count": 33,
   "id": "fd2ea619-bee7-4e06-ac86-25d14d15c4fe",
   "metadata": {},
   "outputs": [
    {
     "name": "stdout",
     "output_type": "stream",
     "text": [
      "Menu\n",
      "1 - Ver saldo\n",
      "2 - Fazer depósito\n",
      "3 - Sair\n"
     ]
    },
    {
     "name": "stdin",
     "output_type": "stream",
     "text": [
      "Digite o número correspondente:  3\n"
     ]
    },
    {
     "name": "stdout",
     "output_type": "stream",
     "text": [
      "Saindo...\n"
     ]
    }
   ],
   "source": [
    "# Vou criar um programa básico de menu de opções\n",
    "saldo = 10.192\n",
    "print(\"Menu\")\n",
    "print(\"1 - Ver saldo\")\n",
    "print(\"2 - Fazer depósito\")\n",
    "print(\"3 - Sair\")\n",
    "\n",
    "numero = int(input(\"Digite o número correspondente: \"))\n",
    "if numero == 1:\n",
    "    print(saldo)\n",
    "elif numero == 2:\n",
    "    deposito = float(input(\"Qual o valor do depósito? \"))\n",
    "    print(f\"Feito depósito de R$ {deposito}\")\n",
    "elif numero == 3:\n",
    "    print(\"Saindo...\")\n",
    "else:\n",
    "    print(\"Opção inválida\")"
   ]
  },
  {
   "cell_type": "code",
   "execution_count": null,
   "id": "1a814c07-c201-47f9-892a-8f5db207be18",
   "metadata": {},
   "outputs": [],
   "source": []
  },
  {
   "cell_type": "code",
   "execution_count": null,
   "id": "47f32c1a-df4e-42ae-a321-265a406d979d",
   "metadata": {},
   "outputs": [],
   "source": []
  }
 ],
 "metadata": {
  "kernelspec": {
   "display_name": "Python 3 (ipykernel)",
   "language": "python",
   "name": "python3"
  },
  "language_info": {
   "codemirror_mode": {
    "name": "ipython",
    "version": 3
   },
   "file_extension": ".py",
   "mimetype": "text/x-python",
   "name": "python",
   "nbconvert_exporter": "python",
   "pygments_lexer": "ipython3",
   "version": "3.13.5"
  }
 },
 "nbformat": 4,
 "nbformat_minor": 5
}
