{
 "cells": [
  {
   "cell_type": "markdown",
   "id": "987c2a2b-198a-4cf0-938f-fbb28ae56b44",
   "metadata": {},
   "source": [
    "#                                                     Lista de Exercícios — Operadores Matemáticos                   "
   ]
  },
  {
   "cell_type": "markdown",
   "id": "2a367581-af4b-4834-96a5-7b673efc29d6",
   "metadata": {},
   "source": [
    "**1. Lista de exercício Operadores Aritméticos** "
   ]
  },
  {
   "cell_type": "code",
   "execution_count": 23,
   "id": "e6f11da2-30d3-4c34-bd9a-03ce91a08a13",
   "metadata": {},
   "outputs": [
    {
     "name": "stdin",
     "output_type": "stream",
     "text": [
      "Escolha o primeiro número:  5\n",
      "Escolha o segundo número:  6\n"
     ]
    },
    {
     "name": "stdout",
     "output_type": "stream",
     "text": [
      "Soma:  11.0\n",
      "Subtração:  -1.0\n",
      "Multiplicação:  30.0\n",
      "Divisão: 0.83\n",
      "Divisão inteira:  0.0\n",
      "Módulo:  5.0\n",
      "Exponenciação:  15625.0\n"
     ]
    }
   ],
   "source": [
    "\"\"\"\n",
    "1. Operações Básicas\n",
    "Recebe dois números do usuário e exibe o resultado\n",
    "das principais operações matemáticas.\n",
    "\"\"\"\n",
    "\n",
    "# Entrada de dados (convertendo para float para permitir números decimais)\n",
    "numero = float(input(\"Escolha o primeiro número: \"))\n",
    "numero2 = float(input(\"Escolha o segundo número: \"))\n",
    "\n",
    "# Operações matemáticas básicas\n",
    "print(\"Soma: \", numero + numero2)\n",
    "print(\"Subtração: \", numero - numero2)\n",
    "print(\"Multiplicação: \", numero * numero2)\n",
    "\n",
    "# Divisão formatada com 2 casas decimais\n",
    "print(f\"Divisão: {numero / numero2:.2f}\")\n",
    "\n",
    "# Divisão inteira (descarta as casas decimais)\n",
    "print(\"Divisão inteira: \", numero // numero2)\n",
    "\n",
    "# Módulo (resto da divisão)\n",
    "print(\"Módulo: \", numero % numero2)\n",
    "\n",
    "# Exponenciação (eleva o primeiro número ao segundo)\n",
    "print(\"Exponenciação: \", numero ** numero2)\n"
   ]
  },
  {
   "cell_type": "markdown",
   "id": "0bc8bf3a-0fc1-4427-985e-3dcf5fdcaac4",
   "metadata": {},
   "source": [
    "**2. Média de Notas**"
   ]
  },
  {
   "cell_type": "code",
   "execution_count": 27,
   "id": "2d515fa4-8694-466e-825a-48b70724410b",
   "metadata": {},
   "outputs": [
    {
     "name": "stdin",
     "output_type": "stream",
     "text": [
      "Digite aqui a sua nota:  5\n",
      "Digite aqui a sua nota:  5\n",
      "Digite aqui a sua nota:  5\n"
     ]
    },
    {
     "name": "stdout",
     "output_type": "stream",
     "text": [
      "Essa é a sua média: 5.0\n"
     ]
    }
   ],
   "source": [
    "\"\"\"\n",
    "2. Média de Notas\n",
    "Recebe três notas do usuário e calcula a média aritmética.\n",
    "\"\"\"\n",
    "\n",
    "# Entrada das notas (convertidas para float para permitir nota com decimal)\n",
    "nota1 = float(input(\"Digite a primeira nota: \"))\n",
    "nota2 = float(input(\"Digite a segunda nota: \"))\n",
    "nota3 = float(input(\"Digite a terceira nota: \"))\n",
    "\n",
    "# Cálculo da média\n",
    "media = (nota1 + nota2 + nota3) / 3\n",
    "\n",
    "# Exibe o resultado formatado com 2 casas decimais\n",
    "print(f\"Sua média final é: {media:.2f}\")\n"
   ]
  },
  {
   "cell_type": "markdown",
   "id": "8b7fb159-148a-4ce9-b0fb-227a138cb9b4",
   "metadata": {},
   "source": [
    "**3. Área de um Círculo**"
   ]
  },
  {
   "cell_type": "code",
   "execution_count": 36,
   "id": "52c2cb2e-0b84-4dbc-b85b-67bd92a282d0",
   "metadata": {},
   "outputs": [
    {
     "name": "stdin",
     "output_type": "stream",
     "text": [
      "Digite o raio do circulo:  5\n"
     ]
    },
    {
     "name": "stdout",
     "output_type": "stream",
     "text": [
      "Área do circulo: 78.54\n"
     ]
    }
   ],
   "source": [
    "\"\"\"\n",
    "3. Área de um Círculo\n",
    "Recebe o valor do raio informado pelo usuário e calcula\n",
    "a área do círculo usando a fórmula: A = π * r²\n",
    "\"\"\"\n",
    "\n",
    "import math  # Biblioteca matemática para acessar o valor de π\n",
    "\n",
    "# Entrada do raio (float para permitir valores decimais)\n",
    "raio = float(input(\"Digite o raio do círculo: \"))\n",
    "\n",
    "# Cálculo da área (π * r²)\n",
    "area = math.pi * (raio ** 2)\n",
    "\n",
    "# Saída formatada com 2 casas decimais\n",
    "print(f\"Área do círculo: {area:.2f}\")\n"
   ]
  },
  {
   "cell_type": "code",
   "execution_count": null,
   "id": "95b63d4b-b8b2-494e-b8fa-245ea445dca0",
   "metadata": {},
   "outputs": [],
   "source": []
  },
  {
   "cell_type": "markdown",
   "id": "110670f7-8c16-4746-a741-75b03489f017",
   "metadata": {},
   "source": [
    "**4. Conversão de Temperatura**"
   ]
  },
  {
   "cell_type": "code",
   "execution_count": 40,
   "id": "5e955566-a0fb-4bef-a049-2a5e0e92e791",
   "metadata": {},
   "outputs": [
    {
     "name": "stdin",
     "output_type": "stream",
     "text": [
      "Digite a temperatura em Celsius:  56\n"
     ]
    },
    {
     "name": "stdout",
     "output_type": "stream",
     "text": [
      "132.8\n"
     ]
    }
   ],
   "source": [
    "\"\"\"\n",
    "4. Conversão de Temperatura\n",
    "Converte um valor em graus Celsius para Fahrenheit\n",
    "usando a fórmula: F = (C * 9/5) + 32\n",
    "\"\"\"\n",
    "\n",
    "# Entrada da temperatura em Celsius\n",
    "celsius = float(input(\"Digite a temperatura em °C: \"))\n",
    "\n",
    "# Conversão para Fahrenheit\n",
    "fahrenheit = (celsius * 9/5) + 32\n",
    "\n",
    "# Exibe o resultado formatado\n",
    "print(f\"{celsius:.1f}°C equivalem a {fahrenheit:.1f}°F\")\n"
   ]
  },
  {
   "cell_type": "markdown",
   "id": "bddbd9fb-96df-4bc6-aac0-17ae14e62f60",
   "metadata": {},
   "source": [
    "**5. Calculadora de Desconto**"
   ]
  },
  {
   "cell_type": "code",
   "execution_count": 42,
   "id": "2b0727a5-4f0c-40d9-bfe4-23168e3a3e99",
   "metadata": {},
   "outputs": [
    {
     "name": "stdin",
     "output_type": "stream",
     "text": [
      "Qual é o preço do produto?  80\n",
      "Qual é o desconto que você deseja?  20\n"
     ]
    },
    {
     "name": "stdout",
     "output_type": "stream",
     "text": [
      "64.0\n"
     ]
    }
   ],
   "source": [
    "\"\"\"\n",
    "5. Calculadora de Desconto\n",
    "Recebe o preço original de um produto e o percentual de desconto,\n",
    "depois calcula e exibe o preço final.\n",
    "\"\"\"\n",
    "\n",
    "# Entrada do preço e do desconto\n",
    "preco = float(input(\"Preço do produto (R$): \"))\n",
    "desconto = float(input(\"Percentual de desconto (%): \"))\n",
    "\n",
    "# Cálculo do valor final após o desconto\n",
    "preco_final = preco - (preco * desconto / 100)\n",
    "\n",
    "# Exibe o resultado formatado com 2 casas decimais\n",
    "print(f\"Preço final: R${preco_final:.2f}\")\n"
   ]
  },
  {
   "cell_type": "markdown",
   "id": "a1a1c76e-9ad7-4e60-af58-b34df4de2353",
   "metadata": {},
   "source": [
    "**6. Maior de Idade?**"
   ]
  },
  {
   "cell_type": "code",
   "execution_count": 53,
   "id": "2cb7a332-39b7-4e08-a96f-9a463f4934ee",
   "metadata": {},
   "outputs": [
    {
     "name": "stdin",
     "output_type": "stream",
     "text": [
      "Digite a sua idade:  13\n"
     ]
    },
    {
     "name": "stdout",
     "output_type": "stream",
     "text": [
      "Você é menor de idade\n"
     ]
    }
   ],
   "source": [
    "\"\"\"\n",
    "6. Maior de Idade?\n",
    "Versão usando índice booleano.\n",
    "\"\"\"\n",
    "\n",
    "idade = int(input(\"Digite a sua idade: \"))\n",
    "\n",
    "mensagens = [\"Você é menor de idade.\", \"Você é maior de idade.\"]\n",
    "# O resultado de (idade >= 18) vira True (1) ou False (0)\n",
    "print(mensagens[idade >= 18])\n"
   ]
  },
  {
   "cell_type": "markdown",
   "id": "4deff13c-3913-49bb-a2ab-c438aad1c3dd",
   "metadata": {},
   "source": [
    "**7. Pode Acessar o Sistema?**"
   ]
  },
  {
   "cell_type": "code",
   "execution_count": 72,
   "id": "67443e8c-81dc-4ef6-980f-cfdcdfa6828a",
   "metadata": {},
   "outputs": [
    {
     "name": "stdin",
     "output_type": "stream",
     "text": [
      "Você é administrador? (True/False): false\n",
      "Digite a sua idade:  10\n",
      "Sua conta está ativa? ()True/False):  false\n"
     ]
    },
    {
     "name": "stdout",
     "output_type": "stream",
     "text": [
      "Acesso negado\n"
     ]
    }
   ],
   "source": [
    "\"\"\"\n",
    "Crie um programa que verifique se um usuário pode\n",
    "acessar um sistema. O acesso só é permitido se:\n",
    "✅ Ele for administrador OU tiver mais de 18 anos E\n",
    "tiver uma conta ativa.\n",
    "\n",
    "\"\"\"\n",
    "\n",
    "# Converte as respostas do usuário para booleano de forma direta\n",
    "admin = input(\"Você é administrador? (True/False): \").lower() == \"true\"\n",
    "idade = int(input(\"Digite sua idade: \"))\n",
    "conta_ativa = input(\"Sua conta está ativa? (True/False): \").lower() == \"true\"\n",
    "\n",
    "# Lógica de acesso:\n",
    "# admin entra sempre\n",
    "# se não for admin, só entra se for maior de idade E conta ativa\n",
    "pode_acessar = admin or (idade >= 18 and conta_ativa)\n",
    "\n",
    "# Escolhe a mensagem com base no resultado (False = 0, True = 1)\n",
    "mensagens = (\"Acesso negado\", \"Acesso permitido\")\n",
    "\n",
    "print(mensagens[pode_acessar])"
   ]
  },
  {
   "cell_type": "markdown",
   "id": "7a9399be-6df5-4b3c-9896-6b85b7d41b82",
   "metadata": {},
   "source": [
    "**8. Número Par e Maior que 10?**                                              "
   ]
  },
  {
   "cell_type": "code",
   "execution_count": 82,
   "id": "383e0e9b-468e-49c0-90dd-5851692d5681",
   "metadata": {},
   "outputs": [
    {
     "name": "stdin",
     "output_type": "stream",
     "text": [
      "Digite um número:  11\n"
     ]
    },
    {
     "name": "stdout",
     "output_type": "stream",
     "text": [
      "Esse número é impar\n"
     ]
    }
   ],
   "source": [
    "\"\"\"\n",
    "8. Número Par e Maior que 10?\n",
    "Verifica se o número digitado é par E maior que 10 ao mesmo tempo.\n",
    "\"\"\"\n",
    "\n",
    "numero = int(input(\"Digite um número: \"))\n",
    "\n",
    "# True se o número for par (resto da divisão por 2 = 0)\n",
    "par = (numero % 2 == 0)\n",
    "\n",
    "# True se o número for maior que 10\n",
    "maior_que_dez = (numero > 10)\n",
    "\n",
    "# As duas condições devem ser verdadeiras ao mesmo tempo\n",
    "resultado = par and maior_que_dez\n",
    "\n",
    "# False → 0 → \"Não é par e maior que 10\"\n",
    "# True  → 1 → \"É par e maior que 10\"\n",
    "mensagens = (\"Não atende a condição\", \"Atende a condição\")\n",
    "print(mensagens[resultado])\n"
   ]
  },
  {
   "cell_type": "markdown",
   "id": "793fb41a-6e71-441e-ab55-dc54af456447",
   "metadata": {},
   "source": [
    "**9. Pode Tirar Carteira de Motorista?**"
   ]
  },
  {
   "cell_type": "code",
   "execution_count": 86,
   "id": "4a0f44cf-7fc1-4861-9607-d624693e41ec",
   "metadata": {},
   "outputs": [
    {
     "name": "stdin",
     "output_type": "stream",
     "text": [
      "Qual a sua idade?  20\n",
      "Tem problemas na documentação? (True/False) false\n"
     ]
    },
    {
     "name": "stdout",
     "output_type": "stream",
     "text": [
      "Você pode tirar sua carteira\n"
     ]
    }
   ],
   "source": [
    "\"\"\"\n",
    "9. Pode tirar a carteira de motorista?\n",
    "\n",
    "Regra:\n",
    "- Tem que ter 18 anos ou mais\n",
    "- E não pode ter problemas na documentação\n",
    "\"\"\"\n",
    "\n",
    "idade = int(input(\"Qual a sua idade? \"))\n",
    "\n",
    "# Se o usuário digitar \"True\" para ter problemas,\n",
    "# queremos que isso seja tratado como \"não pode\".\n",
    "tem_documento_ok = input(\"Documentação está ok? (True/False): \").lower() == \"true\"\n",
    "\n",
    "# Regra: maior de idade E documentação ok\n",
    "pode_tirar = (idade >= 18) and tem_documento_ok\n",
    "\n",
    "# False → 0 → Não pode\n",
    "# True → 1 → Pode\n",
    "mensagens = (\"Você não pode tirar sua carteira.\", \"Você pode tirar sua carteira.\")\n",
    "print(mensagens[pode_tirar])\n"
   ]
  },
  {
   "cell_type": "markdown",
   "id": "9bb18291-44fd-4eaf-b712-efd9607f45de",
   "metadata": {},
   "source": [
    "**10. Promoção de Loja**"
   ]
  },
  {
   "cell_type": "code",
   "execution_count": 93,
   "id": "3ba798a2-8292-4f3e-83d3-c9286730e23f",
   "metadata": {},
   "outputs": [
    {
     "name": "stdin",
     "output_type": "stream",
     "text": [
      "Digite o valor gasto:  20\n",
      "Você é cliente VIP? (True/False) true\n"
     ]
    },
    {
     "name": "stdout",
     "output_type": "stream",
     "text": [
      "Você ganhou um brinde!\n"
     ]
    }
   ],
   "source": [
    "\"\"\"\n",
    "10. Promoção da Loja\n",
    "\n",
    "O cliente ganha um brinde se:\n",
    "- Gastar mais de R$100\n",
    "OU\n",
    "- For cliente VIP\n",
    "\"\"\"\n",
    "\n",
    "# Entrada de valores\n",
    "valor = float(input(\"Valor gasto na compra (R$): \"))\n",
    "vip = input(\"Você é cliente VIP? (True/False): \").lower() == \"true\"\n",
    "\n",
    "# Regra para receber o brinde\n",
    "brinde = (valor > 100) or vip\n",
    "\n",
    "# Seleção da mensagem baseada no resultado\n",
    "mensagens = (\"Você não ganhou brinde.\", \"Você ganhou um brinde!\")\n",
    "\n",
    "print(mensagens[brinde])\n"
   ]
  },
  {
   "cell_type": "code",
   "execution_count": null,
   "id": "27f3d0c9-266a-41ce-a93d-89b233d17a2c",
   "metadata": {},
   "outputs": [],
   "source": []
  }
 ],
 "metadata": {
  "kernelspec": {
   "display_name": "Python 3 (ipykernel)",
   "language": "python",
   "name": "python3"
  },
  "language_info": {
   "codemirror_mode": {
    "name": "ipython",
    "version": 3
   },
   "file_extension": ".py",
   "mimetype": "text/x-python",
   "name": "python",
   "nbconvert_exporter": "python",
   "pygments_lexer": "ipython3",
   "version": "3.13.5"
  }
 },
 "nbformat": 4,
 "nbformat_minor": 5
}
